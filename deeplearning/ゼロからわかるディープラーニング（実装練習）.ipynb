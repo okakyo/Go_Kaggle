{
 "cells": [
  {
   "cell_type": "markdown",
   "metadata": {},
   "source": [
    "# このノートの目的\n",
    "- ## このノートは、深層学習、並びに機械学習を再復習するために記述している。\n",
    "- 今後は、Webアプリに実装していくことを前提に考えている。"
   ]
  },
  {
   "cell_type": "code",
   "execution_count": 1,
   "metadata": {},
   "outputs": [],
   "source": [
    "import numpy as np\n",
    "import scipy as sp\n",
    "import sys,os"
   ]
  },
  {
   "cell_type": "markdown",
   "metadata": {},
   "source": [
    "# 深層学習　入門\n",
    "\n",
    "## 目次\n",
    "- 公式\n",
    "- 使用例\n",
    "\n",
    "## 公式\n",
    "- 内積"
   ]
  },
  {
   "cell_type": "code",
   "execution_count": 2,
   "metadata": {},
   "outputs": [],
   "source": [
    "X=np.array([\n",
    "    [1.0,3.0],\n",
    "    [2.0,5.0],\n",
    "])\n",
    "Y=np.array([\n",
    "    [3.0,4.0],\n",
    "    [1.0,7.0],\n",
    "])"
   ]
  },
  {
   "cell_type": "code",
   "execution_count": 3,
   "metadata": {},
   "outputs": [
    {
     "data": {
      "text/plain": [
       "array([[ 3., 12.],\n",
       "       [ 2., 35.]])"
      ]
     },
     "execution_count": 3,
     "metadata": {},
     "output_type": "execute_result"
    }
   ],
   "source": [
    "X*Y # この計算が何かについて調べておく"
   ]
  },
  {
   "cell_type": "code",
   "execution_count": 4,
   "metadata": {},
   "outputs": [
    {
     "data": {
      "text/plain": [
       "array([[ 6., 25.],\n",
       "       [11., 43.]])"
      ]
     },
     "execution_count": 4,
     "metadata": {},
     "output_type": "execute_result"
    }
   ],
   "source": [
    "X@Y # 内積"
   ]
  },
  {
   "cell_type": "code",
   "execution_count": 5,
   "metadata": {},
   "outputs": [],
   "source": [
    "def sigmoid(x):\n",
    "    return 1/(1.0+np.exp(-x))\n",
    "def relu(x):\n",
    "    return np.maximum(0,x)"
   ]
  },
  {
   "cell_type": "code",
   "execution_count": 6,
   "metadata": {},
   "outputs": [
    {
     "data": {
      "text/plain": [
       "array([[ 6., 25.],\n",
       "       [11., 43.]])"
      ]
     },
     "execution_count": 6,
     "metadata": {},
     "output_type": "execute_result"
    }
   ],
   "source": [
    "X.dot(Y) # 内積（2つ目）"
   ]
  },
  {
   "cell_type": "markdown",
   "metadata": {},
   "source": [
    "## 活性化関数\n",
    "\n",
    "- 活性化関数とは、深層学習におけるシナプスの役割を果たしている、\n",
    "- 活性化関数において、有名な関数としては **シグモイド関数**, **ReLu関数**が有名である.<br/>\n",
    "\n",
    "$$\n",
    " sigmoid(x)=\\frac{1.0}{1.0+\\exp(-x)}\n",
    "$$\n",
    "<br/>\n",
    "$$\n",
    " ReLu(x)=\\begin{cases}\n",
    "     x\\quad x\\geqq0\\\\\n",
    "     0\\quad x<0\\\\\n",
    " \\end{cases}\n",
    "$$ "
   ]
  },
  {
   "cell_type": "code",
   "execution_count": 12,
   "metadata": {},
   "outputs": [],
   "source": [
    "import matplotlib.pyplot as plt \n",
    "%matplotlib inline "
   ]
  },
  {
   "cell_type": "code",
   "execution_count": 13,
   "metadata": {
    "scrolled": true
   },
   "outputs": [
    {
     "data": {
      "image/png": "[encoded data removed]",
      "text/plain": [
       "<Figure size 432x288 with 1 Axes>"
      ]
     },
     "metadata": {
      "needs_background": "light"
     },
     "output_type": "display_data"
    }
   ],
   "source": [
    "x=np.arange(-5,5,0.1)\n",
    "y=sigmoid(x)\n",
    "plt.plot(x,y)\n",
    "plt.title('Sigmoid Fulction')\n",
    "plt.show()"
   ]
  },
  {
   "cell_type": "code",
   "execution_count": 14,
   "metadata": {},
   "outputs": [
    {
     "data": {
      "image/png": "[encoded data removed]",
      "text/plain": [
       "<Figure size 432x288 with 1 Axes>"
      ]
     },
     "metadata": {
      "needs_background": "light"
     },
     "output_type": "display_data"
    }
   ],
   "source": [
    "y=relu(x)\n",
    "plt.plot(x,y)\n",
    "plt.title('ReLu Function')\n",
    "plt.ylim(-1,5.5)\n",
    "plt.show()"
   ]
  },
  {
   "cell_type": "code",
   "execution_count": 15,
   "metadata": {},
   "outputs": [
    {
     "name": "stdout",
     "output_type": "stream",
     "text": [
      "X= [[0.73105858 0.95257413]\n",
      " [0.88079708 0.99330715]]\n",
      "Y= [[0.95257413 0.98201379]\n",
      " [0.73105858 0.99908895]]\n"
     ]
    }
   ],
   "source": [
    "print('X=',sigmoid(X))\n",
    "print('Y=',sigmoid(Y))"
   ]
  },
  {
   "cell_type": "code",
   "execution_count": 16,
   "metadata": {},
   "outputs": [
    {
     "name": "stdout",
     "output_type": "stream",
     "text": [
      "X= [[1. 3.]\n",
      " [2. 5.]]\n",
      "Y= [[3. 4.]\n",
      " [1. 7.]]\n"
     ]
    }
   ],
   "source": [
    "print('X=',relu(X))\n",
    "print('Y=',relu(Y))"
   ]
  },
  {
   "cell_type": "markdown",
   "metadata": {},
   "source": [
    "# 深層学習　実装編"
   ]
  },
  {
   "cell_type": "code",
   "execution_count": 17,
   "metadata": {},
   "outputs": [],
   "source": [
    "class Affine:\n",
    "    def __init__(self,W,b):\n",
    "        self.W=W\n",
    "        self.b=b\n",
    "        self.x=None\n",
    "        self.dW=None\n",
    "        self.db=None\n",
    "        \n",
    "    def forward(self,x):\n",
    "        self.x=x\n",
    "        out=np.dot(x,self.W)+self.b\n",
    "        return out \n",
    "    def backward(self,dout):\n",
    "        dx=np.dot(dout,self.W.T)\n",
    "        self.dW=np.dot(self.x.T,dout)\n",
    "        self.db=np,sum(dout,axis=0)\n",
    "        return dx\n",
    "    "
   ]
  },
  {
   "cell_type": "code",
   "execution_count": 18,
   "metadata": {},
   "outputs": [],
   "source": [
    "class Sigmoid:\n",
    "    def __init__(self):\n",
    "        self.out=None\n",
    "    \n",
    "    def forward(self,x):\n",
    "        out=1.0/(1.0+np.exp(-x))\n",
    "        self.out=out # この実装法はとても重要！！（誤差伝播法につなげるために、値を一時保管しながらも、値を返す方法！）\n",
    "        return out\n",
    "    \n",
    "    def backward(self,x):\n",
    "        dx=x*(1.0-self.out)*self.out\n",
    "        return dx"
   ]
  },
  {
   "cell_type": "code",
   "execution_count": 19,
   "metadata": {},
   "outputs": [],
   "source": [
    "class Relu:\n",
    "    def __init__(self):\n",
    "        self.mask=None\n",
    "        \n",
    "    def forward(self,x):\n",
    "        self.mask=(x<=0)\n",
    "        out=x.copy()\n",
    "        out[self.mask]=0\n",
    "        return out\n",
    "    \n",
    "    def backward(self,dout):\n",
    "        dout[self.mask]=0\n",
    "        dx=dout\n",
    "        return dx"
   ]
  },
  {
   "cell_type": "markdown",
   "metadata": {},
   "source": [
    "## 損失関数\n",
    "- ニューラルネットワーク　を学習するために、その学習が的確に行われているかどうかの最適なパラメータを探し出すための指標としての関数を、**損失関数** という。この関数としてあげられる関数は、２乗和誤差、交差エントロピー関数などがあげられる。\n",
    "$$\n",
    "E=\\frac{1}{2}{\\sum((y-t)**2)}\n",
    "$$"
   ]
  },
  {
   "cell_type": "markdown",
   "metadata": {},
   "source": [
    "## SoftMax 関数\n",
    "- ソフトマックス関数は、ディープラーニングの計算結果の精度を計算するためによく利用される関数である。\n",
    "- 計算式は以下の通り。<br>\n",
    "$$\n",
    "  sigmoid(x)=\\frac{exp(x)}{\\sum(exp(x))}\n",
    "$$"
   ]
  },
  {
   "cell_type": "code",
   "execution_count": 24,
   "metadata": {},
   "outputs": [],
   "source": [
    "# ソフトマックス関数を図示化してみる\n",
    "\n",
    "class SoftmaxWithLoss:\n",
    "    def __init__(self):\n",
    "        self.loss=None\n",
    "        self.y=None\n",
    "        self.x=None\n",
    "        \n",
    "    def foward(self):\n",
    "        self.t=t\n",
    "        self.y=self.__softmax(x)\n",
    "        self.loss=cross_entropy_error(self.y,self.t)\n",
    "    \n",
    "    def backward(self):\n",
    "        batch_size=self.t.shape[0]\n",
    "        dx=(self.y-self.t)/batch_size\n",
    "        return dx\n",
    "    def __softmax(self,x):\n",
    "        exp_a=np.exp(x)\n",
    "        sum_exp_a=np.sum(exp_a)\n",
    "        y=exp_a/sum_exp_a\n",
    "        return y\n",
    "   \n",
    "        "
   ]
  },
  {
   "cell_type": "markdown",
   "metadata": {},
   "source": [
    "上の図表からわかる通り、ソフトマックス関数は、主に分類によく使われる関数である。"
   ]
  },
  {
   "cell_type": "markdown",
   "metadata": {},
   "source": [
    "## 深層学習を実装\n",
    "- 以上にあげられた関数を利用して、実際にニューラルネットワークを構築する"
   ]
  },
  {
   "cell_type": "code",
   "execution_count": 22,
   "metadata": {},
   "outputs": [],
   "source": [
    "from collections import OrderedDict"
   ]
  },
  {
   "cell_type": "code",
   "execution_count": 23,
   "metadata": {},
   "outputs": [],
   "source": [
    "def numerical_gradient(f,x):\n",
    "    h=1e-4\n",
    "    grad=np.zeros_like(x)\n",
    "    for i in range(x.size):\n",
    "        tmp_val=x[idx]\n",
    "        x[idx]=tmp_val+h\n",
    "        fxh1=f(x)\n",
    "        \n",
    "        x[idx]=tmp_val+h\n",
    "        fxh2=f(x)\n",
    "        \n",
    "        grad[idx]={fxh1-fxh2}/(2*h)\n",
    "        x[idx]=tmp_val\n",
    "        \n",
    "    return grad\n",
    "\n",
    "        \n",
    "        "
   ]
  },
  {
   "cell_type": "code",
   "execution_count": 25,
   "metadata": {},
   "outputs": [],
   "source": [
    "class TwoLayerNet:\n",
    "    def __init__(self, input_size, hidden_size,output_size,weight_init_std=0.01):\n",
    "        self.params={}\n",
    "        self.params['w1']=weight_init_std*np.random.randn( input_size,hidden_size)\n",
    "        self.params['b1']=np.zeros(hidden_size)\n",
    "        self.params['w2']=weight_init_std*np.random.randn( hidden_size,output_size)\n",
    "        self.params['b2']=np.zeros(output_size)\n",
    "        self.layers=OrderdDict()\n",
    "        self.layers['Affine_1']=Affine(self.params['w1'],self.params['b1'])\n",
    "        self.layers['Relu_1']=Relu()\n",
    "        self.layers['Affine_2']=Affine(self.params['w1'],self.params['b1'])\n",
    "        self.lastLayer=SoftMaxWithLoss()\n",
    "        \n",
    "    def predict(self,x):\n",
    "        for layer in self.layers.values():\n",
    "            x=layer.forward(x)\n",
    "        return x\n",
    "    \n",
    "    def loss(self,x,t):\n",
    "        y=self.predict(x)\n",
    "        return self.lastLayer.forward(y,t)\n",
    "    \n",
    "    def accuracy(self,x,t):\n",
    "        y=predict(x)\n",
    "        y=np.argmax(y,axis=1)\n",
    "        if (t.ndim!=1): t=np.argmax(t,axis=1)\n",
    "        accuracy=np.sum(y==t)/float(x.shape[0])\n",
    "        return accuracy\n",
    "    \n",
    "    def numerical_gradient(self,x,t):\n",
    "        loss_w=lambda W: self.loss(x,t)\n",
    "        \n",
    "        grads={}\n",
    "        grads['w1']=numerical_gradient(loss_w,self.params['w1'])\n",
    "        grads['b1']=numerical_gradient(loss_w,self.params['b1'])\n",
    "        grads['w2']=numerical_gradient(loss_w,self.params['w2'])\n",
    "        grads['b2']=numerical_gradient(loss_w,self.params['b2'])\n",
    "        \n",
    "        return grads\n",
    "\n",
    "    def gradient(self,x,t):\n",
    "        self.loss(x,t)\n",
    "        dout=1\n",
    "        dout=seld.lastLayer.backward(dout)\n",
    "        layers=list(self.layers.values())\n",
    "        layers.reverse()\n",
    "        for layer in layers:\n",
    "            dout=layer.backward(dout)\n",
    "        grads={}\n",
    "        grads['w1']=self.layers['Affine1'].dw\n",
    "        grads['b1']=self.layers['Affine1'].db\n",
    "        grads['w2']=self.layers['Affine2'].dw\n",
    "        grads['b2']=self.layers['Affine2'].db\n",
    "        \n",
    "        return grads\n",
    "        "
   ]
  },
  {
   "cell_type": "code",
   "execution_count": null,
   "metadata": {},
   "outputs": [],
   "source": []
  }
 ],
 "metadata": {
  "kernelspec": {
   "display_name": "Python 3",
   "language": "python",
   "name": "python3"
  },
  "language_info": {
   "codemirror_mode": {
    "name": "ipython",
    "version": 3
   },
   "file_extension": ".py",
   "mimetype": "text/x-python",
   "name": "python",
   "nbconvert_exporter": "python",
   "pygments_lexer": "ipython3",
   "version": "3.7.3"
  }
 },
 "nbformat": 4,
 "nbformat_minor": 2
}
