{
 "cells": [
  {
   "cell_type": "code",
   "execution_count": 1,
   "metadata": {},
   "outputs": [],
   "source": [
    "import numpy as np \n",
    "import matplotlib.pyplot as plt\n",
    "import math"
   ]
  },
  {
   "cell_type": "code",
   "execution_count": 7,
   "metadata": {},
   "outputs": [],
   "source": [
    "def f1(x,y):\n",
    "    return 15*x+7*y\n",
    "def f2(x,y):\n",
    "    return 6*x+13*y\n",
    "\n",
    "def f3(x,y):\n",
    "    return 2*x+3*y"
   ]
  },
  {
   "cell_type": "code",
   "execution_count": 9,
   "metadata": {},
   "outputs": [
    {
     "name": "stdout",
     "output_type": "stream",
     "text": [
      "最適値：32\n",
      "最適解:[4, 8]\n"
     ]
    }
   ],
   "source": [
    "\n",
    "expectedArgs =[]\n",
    "for x in range(23):\n",
    "    for y in range(18):\n",
    "        if(f1(x,y)<=123 and f2(x,y)<=132):\n",
    "            expectedArgs.append([x,y])\n",
    "expectedAns =[f3(x,y) for [x,y] in expectedArgs]\n",
    "\n",
    "optimizedValue =max(expectedAns)\n",
    "print(\"最適値：{}\".format(optimizedValue))\n",
    "print(\"最適解:{}\".format(expectedArgs[expectedAns.index(optimizedValue)]))"
   ]
  },
  {
   "cell_type": "code",
   "execution_count": 6,
   "metadata": {},
   "outputs": [
    {
     "name": "stdout",
     "output_type": "stream",
     "text": [
      "65\n"
     ]
    }
   ],
   "source": [
    "print(len(expectedAns))"
   ]
  },
  {
   "cell_type": "code",
   "execution_count": null,
   "metadata": {},
   "outputs": [],
   "source": []
  }
 ],
 "metadata": {
  "kernelspec": {
   "display_name": "Python 3",
   "language": "python",
   "name": "python3"
  },
  "language_info": {
   "codemirror_mode": {
    "name": "ipython",
    "version": 3
   },
   "file_extension": ".py",
   "mimetype": "text/x-python",
   "name": "python",
   "nbconvert_exporter": "python",
   "pygments_lexer": "ipython3",
   "version": "3.8.6rc1"
  }
 },
 "nbformat": 4,
 "nbformat_minor": 4
}
