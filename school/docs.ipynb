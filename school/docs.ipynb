{
 "cells": [
  {
   "cell_type": "markdown",
   "metadata": {},
   "source": [
    "# Python ソフトウェアアーキテクチャ　まとめ\n",
    "\n",
    "## 概要\n",
    "この記事では、「Python のソフトウェアアーキテクチャ」をベースに、\n",
    "Python の細かな文法についてまとめました。気になる人は参考にしてみてください。"
   ]
  },
  {
   "cell_type": "markdown",
   "metadata": {},
   "source": [
    "## パフォーマンス\n",
    "ここでは、Python の非同期処理、または並列並行処理を利用して特定の作業を効率化するための方法についてまとめました。  \n",
    "次の例では、**Threading** ライブラリを利用した並列処理を実装します。\n"
   ]
  },
  {
   "cell_type": "code",
   "execution_count": 1,
   "metadata": {},
   "outputs": [],
   "source": [
    "import threading, time, urllib.request\n",
    "from PIL import Image\n"
   ]
  },
  {
   "cell_type": "code",
   "execution_count": 22,
   "metadata": {},
   "outputs": [],
   "source": [
    "def getImages(url,index, size=(64,64),format= \".png\"):\n",
    "    im = Image.open(urllib.request.urlopen(url))\n",
    "    pieces = url.split(\"/\")\n",
    "    filename= \"images/\"+\"\".join([pieces[-2],\"-\",pieces[-1].split(\".\")[0],\"-\",str(index),format])\n",
    "    im.thumbnail(size,Image.ANTIALIAS)\n",
    "    im.save(filename)\n",
    "    print(\"Save:\",filename)"
   ]
  },
  {
   "cell_type": "markdown",
   "metadata": {},
   "source": [
    "### シングルスレッドで行った場合"
   ]
  },
  {
   "cell_type": "code",
   "execution_count": 24,
   "metadata": {},
   "outputs": [
    {
     "name": "stdout",
     "output_type": "stream",
     "text": [
      "Save: images/f5f5f5-f5f5f5-0.png\n",
      "Save: images/f5f5f5-f5f5f5-1.png\n",
      "Save: images/f5f5f5-f5f5f5-2.png\n",
      "Save: images/f5f5f5-f5f5f5-3.png\n",
      "Save: images/f5f5f5-f5f5f5-4.png\n",
      "Save: images/f5f5f5-f5f5f5-5.png\n",
      "Save: images/f5f5f5-f5f5f5-6.png\n",
      "Save: images/f5f5f5-f5f5f5-7.png\n",
      "Save: images/f5f5f5-f5f5f5-8.png\n",
      "Save: images/f5f5f5-f5f5f5-9.png\n",
      "Total Time:8.348833084106445[s]\n",
      "AVR Time:0.8348833084106445[s]\n"
     ]
    }
   ],
   "source": [
    "imgUrls = ['https://dummyimage.com/600x400/f5f5f5/f5f5f5.png']*10\n",
    "start= time.time()\n",
    "for(index,url) in enumerate(imgUrls):\n",
    "    getImages(url,index)\n",
    "workTime = time.time()-start\n",
    "print(\"Total Time:{}[s]\".format(workTime))\n",
    "print(\"AVR Time:{}[s]\".format(workTime/10))"
   ]
  },
  {
   "cell_type": "markdown",
   "metadata": {},
   "source": [
    "### 'Threading' ライブラリを利用した場合 "
   ]
  },
  {
   "cell_type": "code",
   "execution_count": 25,
   "metadata": {},
   "outputs": [
    {
     "name": "stdout",
     "output_type": "stream",
     "text": [
      "Total Time:0.12198734283447266[s]\n",
      "AVR Time:0.012198734283447265[s]\n"
     ]
    }
   ],
   "source": [
    "start= time.time()\n",
    "for(index,url) in enumerate(imgUrls):\n",
    "    t = threading.Thread(target=getImages,args =(url,index))\n",
    "    t.start()\n",
    "workTime = time.time()-start\n",
    "print(\"Total Time:{}[s]\".format(workTime))\n",
    "print(\"AVR Time:{}[s]\".format(workTime/10))"
   ]
  },
  {
   "cell_type": "code",
   "execution_count": null,
   "metadata": {},
   "outputs": [],
   "source": []
  }
 ],
 "metadata": {
  "kernelspec": {
   "display_name": "Python 3",
   "language": "python",
   "name": "python3"
  },
  "language_info": {
   "codemirror_mode": {
    "name": "ipython",
    "version": 3
   },
   "file_extension": ".py",
   "mimetype": "text/x-python",
   "name": "python",
   "nbconvert_exporter": "python",
   "pygments_lexer": "ipython3",
   "version": "3.8.6rc1"
  }
 },
 "nbformat": 4,
 "nbformat_minor": 4
}
